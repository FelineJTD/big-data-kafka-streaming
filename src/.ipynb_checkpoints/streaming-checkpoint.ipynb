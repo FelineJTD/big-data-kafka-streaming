{
 "cells": [
  {
   "cell_type": "code",
   "execution_count": 2,
   "metadata": {},
   "outputs": [
    {
     "ename": "NameError",
     "evalue": "name 'SparkContext' is not defined",
     "output_type": "error",
     "traceback": [
      "\u001b[0;31m---------------------------------------------------------------------------\u001b[0m",
      "\u001b[0;31mNameError\u001b[0m                                 Traceback (most recent call last)",
      "\u001b[0;32m/tmp/ipykernel_17867/3951445089.py\u001b[0m in \u001b[0;36m<module>\u001b[0;34m\u001b[0m\n\u001b[1;32m      7\u001b[0m \u001b[0mBOOTSTRAP_SERVER\u001b[0m \u001b[0;34m=\u001b[0m \u001b[0;34m\"localhost:9092\"\u001b[0m\u001b[0;34m\u001b[0m\u001b[0;34m\u001b[0m\u001b[0m\n\u001b[1;32m      8\u001b[0m \u001b[0;34m\u001b[0m\u001b[0m\n\u001b[0;32m----> 9\u001b[0;31m \u001b[0msc\u001b[0m \u001b[0;34m=\u001b[0m \u001b[0mSparkContext\u001b[0m\u001b[0;34m(\u001b[0m\u001b[0mappName\u001b[0m\u001b[0;34m=\u001b[0m\u001b[0;34m\"StreamingExample\"\u001b[0m\u001b[0;34m)\u001b[0m\u001b[0;34m\u001b[0m\u001b[0;34m\u001b[0m\u001b[0m\n\u001b[0m\u001b[1;32m     10\u001b[0m \u001b[0mssc\u001b[0m \u001b[0;34m=\u001b[0m \u001b[0mStreamingContext\u001b[0m\u001b[0;34m(\u001b[0m\u001b[0msc\u001b[0m\u001b[0;34m,\u001b[0m\u001b[0;36m1\u001b[0m\u001b[0;34m)\u001b[0m \u001b[0;31m#stream each one second\u001b[0m\u001b[0;34m\u001b[0m\u001b[0;34m\u001b[0m\u001b[0m\n\u001b[1;32m     11\u001b[0m \u001b[0mssc\u001b[0m\u001b[0;34m.\u001b[0m\u001b[0mcheckpoint\u001b[0m\u001b[0;34m(\u001b[0m\u001b[0;34m\"./checkpoint\"\u001b[0m\u001b[0;34m)\u001b[0m\u001b[0;34m\u001b[0m\u001b[0;34m\u001b[0m\u001b[0m\n",
      "\u001b[0;31mNameError\u001b[0m: name 'SparkContext' is not defined"
     ]
    }
   ],
   "source": [
    "from pyspark import SparkContext\n",
    "from pyspark.streaming import StreamingContext\n",
    "from pyspark.streaming.kafka import KafkaUtils\n",
    "from datetime import datetime\n",
    "import json\n",
    "\n",
    "KAFKA_TOPIC = \"uk-flood\"\n",
    "BOOTSTRAP_SERVER = \"localhost:9092\"\n",
    "\n",
    "sc = SparkContext(appName=\"StreamingExample\")\n",
    "ssc = StreamingContext(sc,1) #stream each one second\n",
    "ssc.checkpoint(\"./checkpoint\")\n",
    "lines = KafkaUtils.createDirectStream(ssc, [KAFKA_TOPIC],\n",
    "                                      {\"metadata.broker.list\": BOOTSTRAP_SERVER})\n",
    "\n",
    "# Function to calculate the severity of each area\n",
    "def calculate_severity_each_area(lines, window_length = 10, sliding_interval = 10):\n",
    "    def compute_severity_each_area(rdd):\n",
    "        items = rdd.collect()\n",
    "        if len(items) > 0:\n",
    "            severity_each_area = {}\n",
    "            for item in items:\n",
    "                if not(item['eaAreaName'] in severity_each_area):\n",
    "                    severity_each_area[item['eaAreaName']] = [\n",
    "                        {\n",
    "                            'severityLevel': 1,\n",
    "                            'count': 0\n",
    "                        },\n",
    "                        {\n",
    "                            'severityLevel': 2,\n",
    "                            'count': 0\n",
    "                        },\n",
    "                        {\n",
    "                            'severityLevel': 3,\n",
    "                            'count': 0\n",
    "                        },\n",
    "                        {\n",
    "                            'severityLevel': 4,\n",
    "                            'count': 0\n",
    "                        }\n",
    "                    ]\n",
    "                \n",
    "                severity_each_area[item['eaAreaName']][item['severityLevel'] - 1]['count'] += 1\n",
    "\n",
    "            result = []\n",
    "            for area in severity_each_area:\n",
    "                for severity in severity_each_area[area]:\n",
    "                    result.append({\"flood_warning_timestamp\": datetime.now().strftime(\"%Y-%m-%d %H:%M:%S\"), \"area_name\": area, \"severity_level\": severity['severityLevel'], \"count\": severity['count']})\n",
    "        else:\n",
    "            result = []\n",
    "        return rdd.context.parallelize(result)  # Convert the list to an RDD\n",
    "    \n",
    "    data = lines.map(lambda line: json.loads(line[1])).flatMap(lambda items: items)\n",
    "    windowed_data = data.window(window_length, sliding_interval)\n",
    "    result = windowed_data.transform(compute_severity_each_area)\n",
    "\n",
    "    return result\n",
    "\n",
    "# run the function\n",
    "result = calculate_severity_each_area(lines, window_length=10, sliding_interval=10)\n",
    "# Print\n",
    "result.pprint()\n",
    "ssc.start()\n",
    "ssc.awaitTermination()"
   ]
  },
  {
   "cell_type": "code",
   "execution_count": null,
   "metadata": {},
   "outputs": [],
   "source": []
  },
  {
   "cell_type": "code",
   "execution_count": null,
   "metadata": {},
   "outputs": [],
   "source": []
  }
 ],
 "metadata": {
  "kernelspec": {
   "display_name": "Python 3 (ipykernel)",
   "language": "python",
   "name": "python3"
  },
  "language_info": {
   "codemirror_mode": {
    "name": "ipython",
    "version": 3
   },
   "file_extension": ".py",
   "mimetype": "text/x-python",
   "name": "python",
   "nbconvert_exporter": "python",
   "pygments_lexer": "ipython3",
   "version": "3.7.17"
  }
 },
 "nbformat": 4,
 "nbformat_minor": 4
}
