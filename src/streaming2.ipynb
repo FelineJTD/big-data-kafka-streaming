{
 "cells": [
  {
   "cell_type": "code",
   "execution_count": 1,
   "metadata": {},
   "outputs": [
    {
     "ename": "NameError",
     "evalue": "name 'sc' is not defined",
     "output_type": "error",
     "traceback": [
      "\u001b[0;31m---------------------------------------------------------------------------\u001b[0m",
      "\u001b[0;31mNameError\u001b[0m                                 Traceback (most recent call last)",
      "\u001b[0;32m/tmp/ipykernel_8173/1031968122.py\u001b[0m in \u001b[0;36m<module>\u001b[0;34m\u001b[0m\n\u001b[1;32m      7\u001b[0m \u001b[0mBOOTSTRAP_SERVER\u001b[0m \u001b[0;34m=\u001b[0m \u001b[0;34m\"localhost:9092\"\u001b[0m\u001b[0;34m\u001b[0m\u001b[0;34m\u001b[0m\u001b[0m\n\u001b[1;32m      8\u001b[0m \u001b[0;34m\u001b[0m\u001b[0m\n\u001b[0;32m----> 9\u001b[0;31m \u001b[0mssc\u001b[0m \u001b[0;34m=\u001b[0m \u001b[0mStreamingContext\u001b[0m\u001b[0;34m(\u001b[0m\u001b[0msc\u001b[0m\u001b[0;34m,\u001b[0m\u001b[0;36m1\u001b[0m\u001b[0;34m)\u001b[0m \u001b[0;31m#stream each one second\u001b[0m\u001b[0;34m\u001b[0m\u001b[0;34m\u001b[0m\u001b[0m\n\u001b[0m\u001b[1;32m     10\u001b[0m \u001b[0mssc\u001b[0m\u001b[0;34m.\u001b[0m\u001b[0mcheckpoint\u001b[0m\u001b[0;34m(\u001b[0m\u001b[0;34m\"./checkpoint\"\u001b[0m\u001b[0;34m)\u001b[0m\u001b[0;34m\u001b[0m\u001b[0;34m\u001b[0m\u001b[0m\n\u001b[1;32m     11\u001b[0m lines = KafkaUtils.createDirectStream(ssc, [KAFKA_TOPIC],\n",
      "\u001b[0;31mNameError\u001b[0m: name 'sc' is not defined"
     ]
    }
   ],
   "source": [
    "from pyspark.streaming import StreamingContext\n",
    "from pyspark.streaming.kafka import KafkaUtils\n",
    "from datetime import datetime\n",
    "import json\n",
    "\n",
    "KAFKA_TOPIC = \"uk-flood\"\n",
    "BOOTSTRAP_SERVER = \"localhost:9092\"\n",
    "\n",
    "ssc = StreamingContext(sc,1) #stream each one second\n",
    "ssc.checkpoint(\"./checkpoint\")\n",
    "lines = KafkaUtils.createDirectStream(ssc, [KAFKA_TOPIC],\n",
    "                                      {\"metadata.broker.list\": BOOTSTRAP_SERVER})\n",
    "\n",
    "# Function to calculate river or sea that causes flood based on its severity classification\n",
    "def river_and_sea_flood_frequency(lines, window_length = 10, sliding_interval = 10):    \n",
    "    def countAllRiverFrequencies(rdd):\n",
    "        items = rdd.collect()\n",
    "\n",
    "        #get all the river and sea names that contribute to flood\n",
    "\n",
    "        def getAllRiverNames(item):\n",
    "            listOfRiverSeas = item['floodArea']['riverOrSea'].split(', ')\n",
    "            return listOfRiverSeas\n",
    "            \n",
    "        if(len(items) > 0):\n",
    "            all_frequency_highest_severity = {}\n",
    "            for item in items:\n",
    "                riverAndSeas = getAllRiverNames(item)\n",
    "                for name in riverAndSeas:\n",
    "                    \n",
    "                    #count all the sea and river names based on its severity\n",
    "                    if not (name in all_frequency_highest_severity):\n",
    "                        all_frequency_highest_severity[name] = [\n",
    "                            {\n",
    "                                'severityLevel': 1,\n",
    "                                'frequency': 0\n",
    "                            },\n",
    "                            {\n",
    "                                'severityLevel': 2,\n",
    "                                'frequency': 0\n",
    "                            },\n",
    "                            {\n",
    "                                'severityLevel': 3,\n",
    "                                'frequency': 0\n",
    "                            },\n",
    "                            {\n",
    "                                'severityLevel': 4,\n",
    "                                'frequency': 0\n",
    "                            }\n",
    "                        ]\n",
    "                    else:\n",
    "                        all_frequency_highest_severity[name][item['severityLevel'] - 1]['frequency'] += 1\n",
    "            result = []\n",
    "            for name in all_frequency_highest_severity:\n",
    "                for severity in all_frequency_highest_severity[name]:\n",
    "                    result.append({\"flood_warning_timestamp\": datetime.now().strftime(\"%Y-%m-%d %H:%M:%S\"), \"riverOrSeaName\": name, \"severity_level\": severity['severityLevel'], \"frequency\": severity['frequency']})\n",
    "        else:\n",
    "            result = []\n",
    "         \n",
    "        return rdd.context.parallelize(result)\n",
    "    \n",
    "    data = lines.map(lambda line: json.loads(line[1])).flatMap(lambda items: items)\n",
    "    windowed_data = data.window(window_length, sliding_interval)\n",
    "    result = windowed_data.transform(countAllRiverFrequencies)\n",
    "\n",
    "    return result\n",
    "\n",
    "# run the function\n",
    "result = river_and_sea_flood_frequency(lines, window_length=10, sliding_interval=10)\n",
    "# Print\n",
    "result.pprint()"
   ]
  },
  {
   "cell_type": "code",
   "execution_count": null,
   "metadata": {},
   "outputs": [],
   "source": []
  },
  {
   "cell_type": "code",
   "execution_count": null,
   "metadata": {},
   "outputs": [],
   "source": []
  }
 ],
 "metadata": {
  "kernelspec": {
   "display_name": "Python 3 (ipykernel)",
   "language": "python",
   "name": "python3"
  },
  "language_info": {
   "codemirror_mode": {
    "name": "ipython",
    "version": 3
   },
   "file_extension": ".py",
   "mimetype": "text/x-python",
   "name": "python",
   "nbconvert_exporter": "python",
   "pygments_lexer": "ipython3",
   "version": "3.7.17"
  }
 },
 "nbformat": 4,
 "nbformat_minor": 2
}
