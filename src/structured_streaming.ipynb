{
 "cells": [
  {
   "cell_type": "code",
   "execution_count": null,
   "metadata": {},
   "outputs": [
    {
     "name": "stderr",
     "output_type": "stream",
     "text": [
      "24/05/10 06:40:21 WARN Utils: Your hostname, nasibaso-sambeldomba resolves to a loopback address: 127.0.1.1; using 192.168.0.131 instead (on interface wlo1)\n",
      "24/05/10 06:40:21 WARN Utils: Set SPARK_LOCAL_IP if you need to bind to another address\n"
     ]
    },
    {
     "name": "stdout",
     "output_type": "stream",
     "text": [
      ":: loading settings :: url = jar:file:/home/nasibaso-sambeldomba/.local/lib/python3.10/site-packages/pyspark/jars/ivy-2.5.1.jar!/org/apache/ivy/core/settings/ivysettings.xml\n"
     ]
    },
    {
     "name": "stderr",
     "output_type": "stream",
     "text": [
      "Ivy Default Cache set to: /home/nasibaso-sambeldomba/.ivy2/cache\n",
      "The jars for the packages stored in: /home/nasibaso-sambeldomba/.ivy2/jars\n",
      "org.apache.spark#spark-streaming-kafka-0-10_2.12 added as a dependency\n",
      "org.apache.spark#spark-sql-kafka-0-10_2.12 added as a dependency\n",
      ":: resolving dependencies :: org.apache.spark#spark-submit-parent-cc9c4438-7c7e-4b80-a8c6-45497cc88afa;1.0\n",
      "\tconfs: [default]\n",
      "\tfound org.apache.spark#spark-streaming-kafka-0-10_2.12;3.5.1 in central\n",
      "\tfound org.apache.spark#spark-token-provider-kafka-0-10_2.12;3.5.1 in central\n",
      "\tfound org.apache.kafka#kafka-clients;3.4.1 in central\n",
      "\tfound org.lz4#lz4-java;1.8.0 in central\n",
      "\tfound org.xerial.snappy#snappy-java;1.1.10.3 in central\n",
      "\tfound org.slf4j#slf4j-api;2.0.7 in central\n",
      "\tfound org.apache.hadoop#hadoop-client-runtime;3.3.4 in central\n",
      "\tfound org.apache.hadoop#hadoop-client-api;3.3.4 in central\n",
      "\tfound commons-logging#commons-logging;1.1.3 in central\n",
      "\tfound com.google.code.findbugs#jsr305;3.0.0 in central\n",
      "\tfound org.apache.spark#spark-sql-kafka-0-10_2.12;3.5.1 in central\n",
      "\tfound org.apache.commons#commons-pool2;2.11.1 in central\n",
      ":: resolution report :: resolve 547ms :: artifacts dl 20ms\n",
      "\t:: modules in use:\n",
      "\tcom.google.code.findbugs#jsr305;3.0.0 from central in [default]\n",
      "\tcommons-logging#commons-logging;1.1.3 from central in [default]\n",
      "\torg.apache.commons#commons-pool2;2.11.1 from central in [default]\n",
      "\torg.apache.hadoop#hadoop-client-api;3.3.4 from central in [default]\n",
      "\torg.apache.hadoop#hadoop-client-runtime;3.3.4 from central in [default]\n",
      "\torg.apache.kafka#kafka-clients;3.4.1 from central in [default]\n",
      "\torg.apache.spark#spark-sql-kafka-0-10_2.12;3.5.1 from central in [default]\n",
      "\torg.apache.spark#spark-streaming-kafka-0-10_2.12;3.5.1 from central in [default]\n",
      "\torg.apache.spark#spark-token-provider-kafka-0-10_2.12;3.5.1 from central in [default]\n",
      "\torg.lz4#lz4-java;1.8.0 from central in [default]\n",
      "\torg.slf4j#slf4j-api;2.0.7 from central in [default]\n",
      "\torg.xerial.snappy#snappy-java;1.1.10.3 from central in [default]\n",
      "\t---------------------------------------------------------------------\n",
      "\t|                  |            modules            ||   artifacts   |\n",
      "\t|       conf       | number| search|dwnlded|evicted|| number|dwnlded|\n",
      "\t---------------------------------------------------------------------\n",
      "\t|      default     |   12  |   0   |   0   |   0   ||   12  |   0   |\n",
      "\t---------------------------------------------------------------------\n",
      ":: retrieving :: org.apache.spark#spark-submit-parent-cc9c4438-7c7e-4b80-a8c6-45497cc88afa\n",
      "\tconfs: [default]\n",
      "\t0 artifacts copied, 12 already retrieved (0kB/13ms)\n",
      "24/05/10 06:40:22 WARN NativeCodeLoader: Unable to load native-hadoop library for your platform... using builtin-java classes where applicable\n",
      "Setting default log level to \"WARN\".\n",
      "To adjust logging level use sc.setLogLevel(newLevel). For SparkR, use setLogLevel(newLevel).\n",
      "24/05/10 06:40:26 WARN ResolveWriteToStream: Temporary checkpoint location created which is deleted normally when the query didn't fail: /tmp/temporary-fb2e9a65-e7f2-46d0-8e27-5a358ca85305. If it's required to delete it under any circumstances, please set spark.sql.streaming.forceDeleteTempCheckpointLocation to true. Important to know deleting temp checkpoint folder is best effort.\n",
      "24/05/10 06:40:26 WARN ResolveWriteToStream: spark.sql.adaptive.enabled is not supported in streaming DataFrames/Datasets and will be disabled.\n",
      "24/05/10 06:40:26 WARN AdminClientConfig: These configurations '[key.deserializer, value.deserializer, enable.auto.commit, max.poll.records, auto.offset.reset]' were supplied but are not used yet.\n",
      "                                                                                \r"
     ]
    },
    {
     "name": "stdout",
     "output_type": "stream",
     "text": [
      "-------------------------------------------\n",
      "Batch: 0\n",
      "-------------------------------------------\n",
      "+----------+-------------+------------------+\n",
      "|eaAreaName|severityLevel|severityLevelCount|\n",
      "+----------+-------------+------------------+\n",
      "+----------+-------------+------------------+\n",
      "\n"
     ]
    },
    {
     "name": "stderr",
     "output_type": "stream",
     "text": [
      "                                                                                \r"
     ]
    },
    {
     "name": "stdout",
     "output_type": "stream",
     "text": [
      "-------------------------------------------\n",
      "Batch: 1\n",
      "-------------------------------------------\n",
      "+--------------------+-------------+------------------+\n",
      "|          eaAreaName|severityLevel|severityLevelCount|\n",
      "+--------------------+-------------+------------------+\n",
      "|Solent and South ...|            4|                 1|\n",
      "|Kent, South Londo...|            3|                 4|\n",
      "|Hertfordshire and...|            3|                 3|\n",
      "|Hertfordshire and...|            4|                 1|\n",
      "|              Thames|            3|                16|\n",
      "|         East Anglia|            3|                 1|\n",
      "|Solent and South ...|            3|                12|\n",
      "+--------------------+-------------+------------------+\n",
      "\n"
     ]
    },
    {
     "name": "stderr",
     "output_type": "stream",
     "text": [
      "                                                                                \r"
     ]
    },
    {
     "name": "stdout",
     "output_type": "stream",
     "text": [
      "-------------------------------------------\n",
      "Batch: 2\n",
      "-------------------------------------------\n",
      "+--------------------+-------------+------------------+\n",
      "|          eaAreaName|severityLevel|severityLevelCount|\n",
      "+--------------------+-------------+------------------+\n",
      "|Solent and South ...|            4|                 2|\n",
      "|Kent, South Londo...|            3|                 8|\n",
      "|Hertfordshire and...|            3|                 6|\n",
      "|Hertfordshire and...|            4|                 2|\n",
      "|              Thames|            3|                32|\n",
      "|         East Anglia|            3|                 2|\n",
      "|Solent and South ...|            3|                24|\n",
      "+--------------------+-------------+------------------+\n",
      "\n"
     ]
    },
    {
     "name": "stderr",
     "output_type": "stream",
     "text": [
      "                                                                                \r"
     ]
    },
    {
     "name": "stdout",
     "output_type": "stream",
     "text": [
      "-------------------------------------------\n",
      "Batch: 3\n",
      "-------------------------------------------\n",
      "+--------------------+-------------+------------------+\n",
      "|          eaAreaName|severityLevel|severityLevelCount|\n",
      "+--------------------+-------------+------------------+\n",
      "|Solent and South ...|            4|                 3|\n",
      "|Kent, South Londo...|            3|                12|\n",
      "|Hertfordshire and...|            3|                 9|\n",
      "|Hertfordshire and...|            4|                 3|\n",
      "|              Thames|            3|                48|\n",
      "|         East Anglia|            3|                 3|\n",
      "|Solent and South ...|            3|                36|\n",
      "+--------------------+-------------+------------------+\n",
      "\n"
     ]
    },
    {
     "name": "stderr",
     "output_type": "stream",
     "text": [
      "                                                                                \r"
     ]
    },
    {
     "name": "stdout",
     "output_type": "stream",
     "text": [
      "-------------------------------------------\n",
      "Batch: 4\n",
      "-------------------------------------------\n",
      "+--------------------+-------------+------------------+\n",
      "|          eaAreaName|severityLevel|severityLevelCount|\n",
      "+--------------------+-------------+------------------+\n",
      "|Solent and South ...|            4|                 4|\n",
      "|Kent, South Londo...|            3|                16|\n",
      "|Hertfordshire and...|            3|                12|\n",
      "|Hertfordshire and...|            4|                 4|\n",
      "|              Thames|            3|                64|\n",
      "|         East Anglia|            3|                 4|\n",
      "|Solent and South ...|            3|                48|\n",
      "+--------------------+-------------+------------------+\n",
      "\n"
     ]
    },
    {
     "name": "stderr",
     "output_type": "stream",
     "text": [
      "                                                                                \r"
     ]
    },
    {
     "name": "stdout",
     "output_type": "stream",
     "text": [
      "-------------------------------------------\n",
      "Batch: 5\n",
      "-------------------------------------------\n",
      "+--------------------+-------------+------------------+\n",
      "|          eaAreaName|severityLevel|severityLevelCount|\n",
      "+--------------------+-------------+------------------+\n",
      "|Solent and South ...|            4|                 5|\n",
      "|Kent, South Londo...|            3|                20|\n",
      "|Hertfordshire and...|            3|                15|\n",
      "|Hertfordshire and...|            4|                 5|\n",
      "|              Thames|            3|                80|\n",
      "|         East Anglia|            3|                 5|\n",
      "|Solent and South ...|            3|                60|\n",
      "+--------------------+-------------+------------------+\n",
      "\n"
     ]
    },
    {
     "name": "stderr",
     "output_type": "stream",
     "text": [
      "                                                                                \r"
     ]
    },
    {
     "name": "stdout",
     "output_type": "stream",
     "text": [
      "-------------------------------------------\n",
      "Batch: 6\n",
      "-------------------------------------------\n",
      "+--------------------+-------------+------------------+\n",
      "|          eaAreaName|severityLevel|severityLevelCount|\n",
      "+--------------------+-------------+------------------+\n",
      "|Solent and South ...|            4|                 6|\n",
      "|Kent, South Londo...|            3|                24|\n",
      "|Hertfordshire and...|            3|                18|\n",
      "|Hertfordshire and...|            4|                 6|\n",
      "|              Thames|            3|                96|\n",
      "|         East Anglia|            3|                 6|\n",
      "|Solent and South ...|            3|                72|\n",
      "+--------------------+-------------+------------------+\n",
      "\n"
     ]
    },
    {
     "name": "stderr",
     "output_type": "stream",
     "text": [
      "                                                                                \r"
     ]
    },
    {
     "name": "stdout",
     "output_type": "stream",
     "text": [
      "-------------------------------------------\n",
      "Batch: 7\n",
      "-------------------------------------------\n",
      "+--------------------+-------------+------------------+\n",
      "|          eaAreaName|severityLevel|severityLevelCount|\n",
      "+--------------------+-------------+------------------+\n",
      "|Solent and South ...|            4|                 7|\n",
      "|Kent, South Londo...|            3|                28|\n",
      "|Hertfordshire and...|            3|                21|\n",
      "|Hertfordshire and...|            4|                 7|\n",
      "|              Thames|            3|               112|\n",
      "|         East Anglia|            3|                 7|\n",
      "|Solent and South ...|            3|                84|\n",
      "+--------------------+-------------+------------------+\n",
      "\n"
     ]
    },
    {
     "name": "stderr",
     "output_type": "stream",
     "text": [
      "                                                                                \r"
     ]
    },
    {
     "name": "stdout",
     "output_type": "stream",
     "text": [
      "-------------------------------------------\n",
      "Batch: 8\n",
      "-------------------------------------------\n",
      "+--------------------+-------------+------------------+\n",
      "|          eaAreaName|severityLevel|severityLevelCount|\n",
      "+--------------------+-------------+------------------+\n",
      "|Solent and South ...|            4|                 8|\n",
      "|Kent, South Londo...|            3|                32|\n",
      "|Hertfordshire and...|            3|                24|\n",
      "|Hertfordshire and...|            4|                 8|\n",
      "|              Thames|            3|               128|\n",
      "|         East Anglia|            3|                 8|\n",
      "|Solent and South ...|            3|                96|\n",
      "+--------------------+-------------+------------------+\n",
      "\n"
     ]
    }
   ],
   "source": [
    "import os\n",
    "os.environ['PYSPARK_SUBMIT_ARGS'] = '--packages org.apache.spark:spark-streaming-kafka-0-10_2.12:3.5.1,org.apache.spark:spark-sql-kafka-0-10_2.12:3.5.1 pyspark-shell'\n",
    "\n",
    "from pyspark.sql import SparkSession\n",
    "from pyspark.sql.functions import from_json, col, window\n",
    "from pyspark.sql.types import StructType, StringType, BooleanType, IntegerType, TimestampType, StructField, ArrayType\n",
    "\n",
    "# Initialize SparkSession\n",
    "spark = SparkSession.builder \\\n",
    "    .appName(\"KafkaStructuredStreaming\") \\\n",
    "    .getOrCreate()\n",
    "\n",
    "# Define schema for nested field floodArea\n",
    "\n",
    "flood_area_schema = StructType([\n",
    "    StructField(\"@id\", StringType()),\n",
    "    StructField(\"county\", StringType()),\n",
    "    StructField(\"notation\", StringType()),\n",
    "    StructField(\"polygon\", StringType()),\n",
    "    StructField(\"riverOrSea\", StringType(), True)  # Optional field, set nullable=True\n",
    "])\n",
    "\n",
    "# Define schema for JSON data including nested field floodArea\n",
    "schema = StructType([\n",
    "    StructField(\"@id\", StringType()),\n",
    "    StructField(\"description\", StringType()),\n",
    "    StructField(\"eaAreaName\", StringType()),\n",
    "    StructField(\"eaRegionName\", StringType()),\n",
    "    StructField(\"floodArea\", flood_area_schema),\n",
    "    StructField(\"floodAreaID\", StringType()),\n",
    "    StructField(\"isTidal\", BooleanType()),\n",
    "    StructField(\"message\", StringType()),\n",
    "    StructField(\"severity\", StringType()),\n",
    "    StructField(\"severityLevel\", IntegerType()),\n",
    "    StructField(\"timeMessageChanged\", TimestampType()),\n",
    "    StructField(\"timeRaised\", TimestampType()),\n",
    "    StructField(\"timeSeverityChanged\", TimestampType())\n",
    "])\n",
    "\n",
    "# Read data from Kafka\n",
    "kafkaStreamDF = spark.readStream \\\n",
    "    .format(\"kafka\") \\\n",
    "    .option(\"kafka.bootstrap.servers\", \"localhost:9092\") \\\n",
    "    .option(\"subscribe\", \"uk-flood\") \\\n",
    "    .load()\n",
    "\n",
    "# Parse JSON data\n",
    "parsedDF = kafkaStreamDF \\\n",
    "    .selectExpr(\"CAST(value AS STRING)\") \\\n",
    "    .select(from_json(col(\"value\"), ArrayType(schema)).alias(\"data\")) \\\n",
    "    .selectExpr(\"explode(data) AS items\") \\\n",
    "    .select(\"items.*\")\n",
    "\n",
    "aggregatedDF = parsedDF \\\n",
    "    .groupBy(\"eaAreaName\", \"severityLevel\") \\\n",
    "    .count() \\\n",
    "    .withColumnRenamed(\"count\", \"severityLevelCount\")\n",
    "\n",
    "# Write the parsed data to console\n",
    "query = aggregatedDF \\\n",
    "    .writeStream \\\n",
    "    .outputMode(\"complete\") \\\n",
    "    .format(\"console\") \\\n",
    "    .start()\n",
    "\n",
    "# Start the streaming query\n",
    "query.awaitTermination()\n"
   ]
  },
  {
   "cell_type": "code",
   "execution_count": null,
   "metadata": {},
   "outputs": [],
   "source": []
  },
  {
   "cell_type": "code",
   "execution_count": null,
   "metadata": {},
   "outputs": [],
   "source": []
  }
 ],
 "metadata": {
  "kernelspec": {
   "display_name": "Python 3 (ipykernel)",
   "language": "python",
   "name": "python3"
  },
  "language_info": {
   "codemirror_mode": {
    "name": "ipython",
    "version": 3
   },
   "file_extension": ".py",
   "mimetype": "text/x-python",
   "name": "python",
   "nbconvert_exporter": "python",
   "pygments_lexer": "ipython3",
   "version": "3.10.12"
  }
 },
 "nbformat": 4,
 "nbformat_minor": 4
}
